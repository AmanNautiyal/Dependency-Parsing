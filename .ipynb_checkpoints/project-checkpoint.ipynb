{
 "cells": [
  {
   "cell_type": "code",
   "execution_count": 1,
   "metadata": {},
   "outputs": [],
   "source": [
    "from sklearn.preprocessing import OneHotEncoder\n",
    "from collections import defaultdict\n",
    "import numpy as np\n",
    "import pandas as pd\n",
    "import itertools\n",
    "import pandas as pd\n",
    "from tqdm.notebook import tqdm\n",
    "from collections import OrderedDict\n",
    "from sklearn.naive_bayes import GaussianNB,BernoulliNB\n",
    "from copy import deepcopy"
   ]
  },
  {
   "cell_type": "code",
   "execution_count": 2,
   "metadata": {},
   "outputs": [],
   "source": [
    "train_file_sent=\"UD_Hindi-HDTB/hi_hdtb-ud-train.txt\"\n",
    "train_file_stat=\"UD_Hindi-HDTB/hi_hdtb-ud-train.conllu\" \n",
    "test_file_sent=\"UD_Hindi-HDTB/hi_hdtb-ud-test.txt\"\n",
    "test_file_stat=\"UD_Hindi-HDTB/hi_hdtb-ud-test.conllu\" \n",
    "val_file_sent=\"UD_Hindi-HDTB/hi_hdtb-ud-dev.txt\"\n",
    "val_file_stat=\"UD_Hindi-HDTB/hi_hdtb-ud-dev.conllu\" "
   ]
  },
  {
   "cell_type": "code",
   "execution_count": 3,
   "metadata": {},
   "outputs": [],
   "source": [
    "def file_lines(name):\n",
    "    lines=[]\n",
    "    with open(name,'r',encoding = 'utf-8') as f:\n",
    "        lines=f.readlines()\n",
    "    for i in range(0,len(lines)):\n",
    "        lines[i]=lines[i].strip().split('\\t')\n",
    "    return lines"
   ]
  },
  {
   "cell_type": "code",
   "execution_count": 4,
   "metadata": {},
   "outputs": [],
   "source": [
    "def extract_stats(line):\n",
    "    stats=dict()\n",
    "    stats['form']=line[1]\n",
    "    stats['lemma']=line[2]\n",
    "    stats['upos']=line[3]\n",
    "    stats['xpos']=line[4]\n",
    "    stats['head']=int(line[6])\n",
    "    stats['deprel']=line[7]\n",
    "    return int(line[0]),stats"
   ]
  },
  {
   "cell_type": "code",
   "execution_count": 5,
   "metadata": {},
   "outputs": [],
   "source": [
    "def path_exists(head,i,graph):\n",
    "    while i!=head and i!=0:\n",
    "        i=graph[i]\n",
    "    return i==head\n",
    "def projectivity(sentence):\n",
    "    graph=dict()\n",
    "    for word in sentence:\n",
    "        word_id=word\n",
    "        head_id=sentence[word_id]['head']\n",
    "        graph[word_id]=head_id\n",
    "    for dependent in graph:\n",
    "        head=graph[dependent]\n",
    "        l= min(head,dependent)+1\n",
    "        r=max(head,dependent)\n",
    "        for i in range(l,r,1):\n",
    "            if not path_exists(head,i,graph):\n",
    "                return False            \n",
    "    return True"
   ]
  },
  {
   "cell_type": "code",
   "execution_count": 6,
   "metadata": {},
   "outputs": [],
   "source": [
    "def filter_non_projective(sentences):\n",
    "    filt_sentences=[sentence for sentence in sentences if projectivity(sentence)]\n",
    "    return filt_sentences"
   ]
  },
  {
   "cell_type": "code",
   "execution_count": 7,
   "metadata": {},
   "outputs": [],
   "source": [
    "def get_sentences(file):\n",
    "    lines=file_lines(file)\n",
    "    sentences=[]\n",
    "    sentence={}\n",
    "    for line in lines:\n",
    "        if len(line)<10:\n",
    "            if len(sentence)>0:\n",
    "                #do something with sentence\n",
    "                sentences.append(sentence)\n",
    "                sentence={}\n",
    "        else:\n",
    "            id,stats=extract_stats(line)\n",
    "            sentence[id]=stats\n",
    "    return sentences"
   ]
  },
  {
   "cell_type": "code",
   "execution_count": 8,
   "metadata": {},
   "outputs": [],
   "source": [
    "def parse(sentence):\n",
    "    buffer=list()\n",
    "    stack=[0]\n",
    "    arcs=list()\n",
    "    states=[]\n",
    "    transitions=[]\n",
    "    def perform_action(action,label=''):\n",
    "        nonlocal buffer,stack,arcs,states,transitions\n",
    "        states.append((list(buffer),list(stack),list(arcs)))\n",
    "        transitions.append((action,label))\n",
    "        if action=='shift':\n",
    "            stack.append(buffer.pop())\n",
    "        elif action=='left_arc':\n",
    "            arcs.append((stack[-1],stack[-2],label))\n",
    "            stack.pop(-2)\n",
    "        elif action=='right_arc':\n",
    "            arcs.append((stack[-2],stack[-1],label))\n",
    "            stack.pop()\n",
    "    dependency_graph = defaultdict(lambda: defaultdict())\n",
    "    for word in reversed(sentence): #store in reverse in buffer, so top of buffer is first word\n",
    "        buffer.append(word['id'])\n",
    "        dependency_graph[word['head']][word['id']]=word['deprel']\n",
    "    states=[]\n",
    "    transitions=[]\n",
    "    head_found=dict()\n",
    "    while not (len(stack)==1 and stack[0]==0 and len(buffer)==0):\n",
    "        if len(stack)>=2:\n",
    "            if dependency_graph.get(stack[-1]) is not None and dependency_graph[stack[-1]].get(stack[-2]) is not None:\n",
    "                head_found[stack[-2]]=True\n",
    "                perform_action(action='left_arc',label=dependency_graph[stack[-1]][stack[-2]])\n",
    "            elif dependency_graph.get(stack[-2]) is not None and dependency_graph[stack[-2]].get(stack[-1]) is not None:\n",
    "                if dependency_graph.get(stack[-1]) is not None and any([dependent not in head_found for dependent in dependency_graph[stack[-1]].keys()]):\n",
    "                    perform_action(action='shift')\n",
    "                else:\n",
    "                    head_found[stack[-1]]=True\n",
    "                    perform_action(action='right_arc',label=dependency_graph[stack[-2]][stack[-1]])\n",
    "            else:\n",
    "                perform_action(action='shift')\n",
    "        else:\n",
    "            perform_action(action='shift')\n",
    "    return states,transitions"
   ]
  },
  {
   "cell_type": "code",
   "execution_count": 9,
   "metadata": {},
   "outputs": [],
   "source": [
    "def parse_eager(sentence):\n",
    "    buffer=list()\n",
    "    stack=[0]\n",
    "    arcs={}\n",
    "    states=[]\n",
    "    transitions=[]\n",
    "    def perform_action(action,label=''):\n",
    "        nonlocal buffer,stack,arcs,states,transitions\n",
    "        states.append((list(buffer),list(stack),deepcopy(arcs)))\n",
    "        transitions.append((action,label))\n",
    "        if action=='shift':\n",
    "            stack.append(buffer.pop())\n",
    "        elif action=='reduce':\n",
    "            stack.pop()\n",
    "        elif action=='left_arc':\n",
    "            if arcs.get(buffer[-1])==None:\n",
    "                arcs[buffer[-1]]=[(stack.pop(),label)]\n",
    "            else:\n",
    "                arcs[buffer[-1]].append((stack.pop(),label))\n",
    "        elif action=='right_arc':\n",
    "            if arcs.get(stack[-1])==None:\n",
    "                arcs[stack[-1]]=[(buffer[-1],label)]\n",
    "            else:\n",
    "                arcs[stack[-1]].append((buffer[-1],label))\n",
    "            stack.append(buffer.pop())\n",
    "    dependency_graph = defaultdict(lambda: defaultdict())\n",
    "    for word in reversed(sentence): #store in reverse in buffer, so top of buffer is first word\n",
    "        buffer.append(word)\n",
    "        dependency_graph[sentence[word]['head']][word]=sentence[word]['deprel']\n",
    "    head_found=dict()\n",
    "    while not len(buffer)==0:\n",
    "        if len(stack)>=1:\n",
    "            if stack[-1]!=0 and head_found.get(stack[-1])==None and dependency_graph.get(buffer[-1]) is not None and dependency_graph[buffer[-1]].get(stack[-1]) is not None:\n",
    "                head_found[stack[-1]]=True\n",
    "                perform_action(action='left_arc',label=dependency_graph[buffer[-1]][stack[-1]])\n",
    "            elif head_found.get(buffer[-1])==None and dependency_graph.get(stack[-1]) is not None and dependency_graph[stack[-1]].get(buffer[-1]) is not None:\n",
    "                head_found[buffer[-1]]=True\n",
    "                perform_action(action='right_arc',label=dependency_graph[stack[-1]][buffer[-1]])\n",
    "            elif head_found.get(stack[-1])!=None and not any([dependent not in head_found for dependent in dependency_graph[stack[-1]].keys()]):\n",
    "                perform_action(action='reduce')\n",
    "            else:\n",
    "                perform_action(action='shift')\n",
    "        else:\n",
    "            perform_action(action='shift')\n",
    "    return states,transitions"
   ]
  },
  {
   "cell_type": "code",
   "execution_count": 10,
   "metadata": {},
   "outputs": [],
   "source": [
    "def get_feature_names(feature_array):\n",
    "    feature_names=[]\n",
    "    if 'single_words' in feature_array:\n",
    "        feature_names.extend(['S0_w_p','S0_w','S0_p','N0_w_p','N0_w','N0_p','N1_w_p','N1_w','N1_p','N2_w_p','N2_w','N2_p'])\n",
    "    return feature_names\n",
    "    "
   ]
  },
  {
   "cell_type": "code",
   "execution_count": 11,
   "metadata": {},
   "outputs": [],
   "source": [
    "def extract_features_oneword(state,row,sentence):\n",
    "    buffer,stack,arcs=state\n",
    "    if len(stack)>1:\n",
    "        row['S0_w']=str(stack[-1])\n",
    "        row['S0_p']=sentence[stack[-1]]['xpos']\n",
    "        row['S0_w_p']=str(stack[-1])+'_'+sentence[stack[-1]]['xpos']\n",
    "    else:\n",
    "        row['S0_w']='None'\n",
    "        row['S0_p']='None'\n",
    "        row['S0_w_p']='None'\n",
    "    if len(buffer)>=1:\n",
    "        row['N0_w']=str(buffer[-1])\n",
    "        row['N0_p']=sentence[buffer[-1]]['xpos']\n",
    "        row['N0_w_p']=str(buffer[-1])+'_'+sentence[buffer[-1]]['xpos']\n",
    "    else:\n",
    "        row['N0_w']='None'\n",
    "        row['N0_p']='None'\n",
    "        row['N0_w_p']='None'\n",
    "    if len(buffer)>=2:\n",
    "        row['N1_w']=str(buffer[-2])\n",
    "        row['N1_p']=sentence[buffer[-2]]['xpos']\n",
    "        row['N1_w_p']=str(buffer[-2])+'_'+sentence[buffer[-2]]['xpos']\n",
    "    else:\n",
    "        row['N1_w']='None'\n",
    "        row['N1_p']='None'\n",
    "        row['N1_w_p']='None'\n",
    "    if len(buffer)>=3:\n",
    "        row['N2_w']=str(buffer[-3])\n",
    "        row['N2_p']=sentence[buffer[-3]]['xpos']\n",
    "        row['N2_w_p']=str(buffer[-3])+'_'+sentence[buffer[-3]]['xpos']\n",
    "    else:\n",
    "        row['N2_w']='None'\n",
    "        row['N2_p']='None'\n",
    "        row['N2_w_p']='None'\n",
    "    return row"
   ]
  },
  {
   "cell_type": "code",
   "execution_count": 12,
   "metadata": {},
   "outputs": [],
   "source": [
    "def extract_features_twoword(state,row,sentence):\n",
    "    buffer,stack,arcs=state\n",
    "    if len(stack)>1 and len(buffer)>=1:\n",
    "        row['S0_w_p_N0_w_p']=str(stack[-1])+'_'+sentence[stack[-1]]['xpos']+'_'+str(buffer[-1])+'_'+sentence[buffer[-1]]['xpos']\n",
    "        row['S0_w_p_N0_w']=str(stack[-1])+'_'+sentence[stack[-1]]['xpos']+'_'+str(buffer[-1])\n",
    "        row['S0_w_N0_w_p']=str(stack[-1])+'_'+str(buffer[-1])+'_'+sentence[buffer[-1]]['xpos']\n",
    "        row['S0_w_p_N0_p']=str(stack[-1])+'_'+sentence[stack[-1]]['xpos']+'_'+sentence[buffer[-1]]['xpos']\n",
    "        row['S0_p_N0_w_p']=sentence[stack[-1]]['xpos']+'_'+str(buffer[-1])+'_'+sentence[buffer[-1]]['xpos']\n",
    "        row['S0_w_N0_w']=str(stack[-1])+'_'+str(buffer[-1])\n",
    "        row['S0_p_N0_p']=sentence[stack[-1]]['xpos']+'_'+sentence[buffer[-1]]['xpos']\n",
    "    else:\n",
    "        row['S0_w_p_N0_w_p']='None'\n",
    "        row['S0_w_p_N0_w']='None'\n",
    "        row['S0_w_N0_w_p']='None'\n",
    "        row['S0_w_p_N0_p']='None'\n",
    "        row['S0_p_N0_w_p']='None'\n",
    "        row['S0_w_N0_w']='None'\n",
    "        row['S0_p_N0_p']='None'\n",
    "    if len(buffer)>=2:\n",
    "        row['N0_p_N1_p']=sentence[buffer[-1]]['xpos']+'_'+sentence[buffer[-2]]['xpos']\n",
    "    else:\n",
    "        row['N0_p_N1_p']='None'\n",
    "    return row"
   ]
  },
  {
   "cell_type": "code",
   "execution_count": 13,
   "metadata": {},
   "outputs": [],
   "source": [
    "def extract_features_threeword(state,row,sentence):\n",
    "    buffer,stack,arcs=state\n",
    "    if len(buffer)>=3:\n",
    "        row['N0_p_N1_p_N2_p']=sentence[buffer[-1]]['xpos']+'_'+sentence[buffer[-2]]['xpos']+'_'+sentence[buffer[-3]]['xpos']\n",
    "    else:\n",
    "        row['N0_p_N1_p_N2_p']='None'\n",
    "    if len(buffer)>=2 and len(stack)>1:\n",
    "        row['S0_p_N0_p_N1_p']=sentence[stack[-1]]['xpos']+'_'+sentence[buffer[-1]]['xpos']+'_'+sentence[buffer[-2]]['xpos']\n",
    "    else:\n",
    "        row['S0_p_N0_p_N1_p']='None'\n",
    "    s0h=-1\n",
    "    s0l=-1\n",
    "    s0r=-1\n",
    "    n0l=-1\n",
    "    if len(stack)>1:\n",
    "        for node in arcs:\n",
    "            for arc in arcs[node]:\n",
    "                if arc[0]==stack[-1]:\n",
    "                    s0h=node\n",
    "                    break\n",
    "            if s0h!=-1:\n",
    "                break\n",
    "        if arcs.get(stack[-1])!=None:\n",
    "            for arc in arcs[stack[-1]]:\n",
    "                if s0l==-1 and s0r==-1:\n",
    "                    s0l=arc[0]\n",
    "                    s0r=arc[0]\n",
    "                elif arc[0]<s0l:\n",
    "                    s0l=arc[0]\n",
    "                elif arc[0]>s0r:\n",
    "                    s0r=arc[0]\n",
    "    if len(buffer)>=1:\n",
    "        if arcs.get(buffer[-1])!=None:\n",
    "            for arc in arcs[buffer[-1]]:\n",
    "                if n0l==-1:\n",
    "                    n0l=arc[0]\n",
    "                elif arc[0]<n0l:\n",
    "                    n0l=arc[0]\n",
    "    if len(stack)>1 and len(buffer)>=1:\n",
    "        if s0h!=-1 and s0h!=0:\n",
    "            row['S0h_p_S0_p_N0_p']=sentence[s0h]['xpos']+'_'+sentence[stack[-1]]['xpos']+'_'+sentence[buffer[-1]]['xpos']\n",
    "        else:\n",
    "            row['S0h_p_S0_p_N0_p']='None'\n",
    "        if s0l!=-1 and s0l!=0:\n",
    "            row['S0_p_S0l_p_N0_p']=sentence[stack[-1]]['xpos']+'_'+sentence[s0l]['xpos']+'_'+sentence[buffer[-1]]['xpos']\n",
    "        else:\n",
    "            row['S0_p_S0l_p_N0_p']='None'\n",
    "        if s0r!=-1 and s0r!=0:\n",
    "            row['S0_p_S0r_p_N0_p']=sentence[stack[-1]]['xpos']+'_'+sentence[s0r]['xpos']+'_'+sentence[buffer[-1]]['xpos']\n",
    "        else:\n",
    "            row['S0_p_S0r_p_N0_p']='None'\n",
    "        if n0l!=-1:\n",
    "            row['S0_p_N0_p_N0l_p']=sentence[stack[-1]]['xpos']+'_'+sentence[buffer[-1]]['xpos']+'_'+sentence[n0l]['xpos']\n",
    "        else:\n",
    "            row['S0_p_N0_p_N0l_p']='None'\n",
    "    else:\n",
    "        row['S0h_p_S0_p_N0_p']='None'\n",
    "        row['S0_p_S0l_p_N0_p']='None'\n",
    "        row['S0_p_S0r_p_N0_p']='None'\n",
    "        row['S0_p_N0_p_N0l_p']='None'\n",
    "    return row"
   ]
  },
  {
   "cell_type": "code",
   "execution_count": 14,
   "metadata": {},
   "outputs": [],
   "source": [
    "\n",
    "def extract_features(states,transitions,sentence,data,counter,label):\n",
    "    for state,transition in zip(states,transitions):\n",
    "        row={}\n",
    "        row=extract_features_oneword(state,row,sentence)\n",
    "        row=extract_features_twoword(state,row,sentence)\n",
    "        row=extract_features_threeword(state,row,sentence)\n",
    "        if transition[1]=='':\n",
    "            label[counter]=transition[0]\n",
    "        else:\n",
    "            label[counter]=transition[0]+','+transition[1]\n",
    "        data[counter]=row\n",
    "        counter+=1\n",
    "    return counter\n",
    "            "
   ]
  },
  {
   "cell_type": "code",
   "execution_count": 15,
   "metadata": {},
   "outputs": [],
   "source": [
    "\n",
    "def extract_features_old(states,transitions,feature_names,sentence,data,counter,label=-1):\n",
    "    for state,transition in zip(states,transitions):\n",
    "        buffer,stack,arcs=state\n",
    "        row={}\n",
    "        for feature_name in feature_names[:-1]:\n",
    "            feature_tokens=feature_name.split('_')\n",
    "            cur_word=0\n",
    "            val=''\n",
    "            for token in feature_tokens:\n",
    "                \n",
    "                #determining word\n",
    "                if token[0]=='S':\n",
    "                    if int(token[1])<len(stack):\n",
    "                        cur_word=stack[-1-int(token[1])]\n",
    "                        if  cur_word==0:\n",
    "                            row[feature_name]='None'\n",
    "                            break\n",
    "                    else:\n",
    "                        row[feature_name]='None'\n",
    "                        break\n",
    "                elif token[0]=='N':\n",
    "                    if int(token[1])<len(buffer):\n",
    "                        cur_word=buffer[-1-int(token[1])]\n",
    "                        if  cur_word==0:\n",
    "                            row[feature_name]='None'\n",
    "                            break\n",
    "                    else:\n",
    "                        row[feature_name]='None'\n",
    "                        break\n",
    "                \n",
    "                #determining feature of the word\n",
    "                else:\n",
    "                    if token=='w':\n",
    "                        if len(val)==0:\n",
    "                            val=sentence[cur_word]['form']\n",
    "                            break\n",
    "                        else:\n",
    "                            val=val+'_'+sentence[cur_word]['form']\n",
    "                            break\n",
    "                    elif token=='p':\n",
    "                        if len(val)==0:\n",
    "                            val=sentence[cur_word]['xpos']\n",
    "                            break\n",
    "                        else:\n",
    "                            val=val+'_'+sentence[cur_word]['xpos']\n",
    "                            break\n",
    "                           \n",
    "            row[feature_name]=val\n",
    "        if transition[1]=='':\n",
    "            row['transition']=transition[0]\n",
    "        else:\n",
    "            row['transition']=transition[0]+','+transition[1]\n",
    "            \n",
    "        data[counter]=row\n",
    "        counter+=1\n",
    "    return counter\n",
    "                            "
   ]
  },
  {
   "cell_type": "code",
   "execution_count": 16,
   "metadata": {},
   "outputs": [],
   "source": [
    "def parse_eager_test_unshift(sentence,model,enc):\n",
    "    buffer=list()\n",
    "    stack=[0]\n",
    "    arcs={}\n",
    "    def perform_action(action,label=''):\n",
    "        nonlocal buffer,stack,arcs\n",
    "        if action=='shift':\n",
    "            stack.append(buffer.pop())\n",
    "        elif action=='reduce':\n",
    "            stack.pop()\n",
    "        elif action=='left_arc':\n",
    "            if arcs.get(buffer[-1])==None:\n",
    "                arcs[buffer[-1]]=[(stack.pop(),label)]\n",
    "            else:\n",
    "                arcs[buffer[-1]].append((stack.pop(),label))\n",
    "        elif action=='right_arc':\n",
    "            if arcs.get(stack[-1])==None:\n",
    "                arcs[stack[-1]]=[(buffer[-1],label)]\n",
    "            else:\n",
    "                arcs[stack[-1]].append((buffer[-1],label))\n",
    "            stack.append(buffer.pop())\n",
    "        elif action=='unshift':\n",
    "            buffer.append(stack.pop())\n",
    "    for word in reversed(sentence): #store in reverse in buffer, so top of buffer is first word\n",
    "        buffer.append(word)\n",
    "    head_found=dict()\n",
    "    end_seen=False\n",
    "    while not (len(stack)==1 and len(buffer)==0 and end_seen):\n",
    "        if len(buffer)==0 and not end_seen:\n",
    "            end_seen=True\n",
    "            continue\n",
    "        state=(buffer,stack,arcs)\n",
    "        row={}\n",
    "        row=extract_features_oneword(state,row,sentence)\n",
    "        row=extract_features_twoword(state,row,sentence)\n",
    "        row=extract_features_threeword(state,row,sentence)\n",
    "        data={0:row}\n",
    "        df = pd.DataFrame.from_dict(data,'index')\n",
    "        x=enc.transform(df)\n",
    "        decision_probs=np.argsort(-1 *model.predict_proba(x)[0],kind='quicksort')\n",
    "        for decision in decision_probs:\n",
    "            temp=model.classes_[decision].split(',')\n",
    "            transition=temp[0]\n",
    "            label=temp[1] if len(temp)>1 else ''\n",
    "            if transition=='left_arc':\n",
    "                if stack[-1]!=0 and head_found.get(stack[-1])==None and len(stack)>=1:\n",
    "                    head_found[stack[-1]]=(buffer[-1],label)\n",
    "                    perform_action(action='left_arc',label=label)\n",
    "                    break\n",
    "            if transition=='right_arc':\n",
    "                if len(stack)>=1 and head_found.get(buffer[-1])==None:\n",
    "                    head_found[buffer[-1]]=(stack[-1],label)\n",
    "                    perform_action(action='right_arc',label=label) \n",
    "                    break\n",
    "            if transition=='reduce':\n",
    "                if head_found.get(stack[-1])!=None and len(stack)>=1:\n",
    "                    perform_action(action='reduce')\n",
    "                    break\n",
    "            if transition=='shift' and not end_seen:\n",
    "                perform_action(action='shift')\n",
    "                break\n",
    "            if end_seen and head_found.get(stack[-1])==None and  len(buffer)==0:\n",
    "                perform_action(action='unshift')\n",
    "                break\n",
    "    return head_found"
   ]
  },
  {
   "cell_type": "code",
   "execution_count": 25,
   "metadata": {},
   "outputs": [],
   "source": [
    "def parse_eager_test(sentence,model,enc):\n",
    "    buffer=list()\n",
    "    stack=[0]\n",
    "    arcs={}\n",
    "    def perform_action(action,label=''):\n",
    "        nonlocal buffer,stack,arcs\n",
    "        if action=='shift':\n",
    "            stack.append(buffer.pop())\n",
    "        elif action=='reduce':\n",
    "            stack.pop()\n",
    "        elif action=='left_arc':\n",
    "            if arcs.get(buffer[-1])==None:\n",
    "                arcs[buffer[-1]]=[(stack.pop(),label)]\n",
    "            else:\n",
    "                arcs[buffer[-1]].append((stack.pop(),label))\n",
    "        elif action=='right_arc':\n",
    "            if arcs.get(stack[-1])==None:\n",
    "                arcs[stack[-1]]=[(buffer[-1],label)]\n",
    "            else:\n",
    "                arcs[stack[-1]].append((buffer[-1],label))\n",
    "            stack.append(buffer.pop())\n",
    "    for word in reversed(sentence): #store in reverse in buffer, so top of buffer is first word\n",
    "        buffer.append(word)\n",
    "    head_found=dict()\n",
    "    end_seen=False\n",
    "    while len(buffer)!=0:\n",
    "        state=(buffer,stack,arcs)\n",
    "        row={}\n",
    "        row=extract_features_oneword(state,row,sentence)\n",
    "        row=extract_features_twoword(state,row,sentence)\n",
    "        row=extract_features_threeword(state,row,sentence)\n",
    "        data={0:row}\n",
    "        df = pd.DataFrame.from_dict(data,'index')\n",
    "        x=enc.transform(df)\n",
    "        decision_probs=np.argsort(-1 *model.predict_proba(x)[0],kind = 'quicksort')\n",
    "        \n",
    "        left_arc_possible=stack[-1]!=0 and head_found.get(stack[-1])==None and len(stack)>=1\n",
    "        right_arc_possible=len(stack)>=1 and head_found.get(buffer[-1])==None\n",
    "        reduce_possible=head_found.get(stack[-1])!=None and len(stack)>=1\n",
    "        for decision in decision_probs:\n",
    "            temp=model.classes_[decision].split(',')\n",
    "            transition=temp[0]\n",
    "            label=temp[1] if len(temp)>1 else ''\n",
    "            if transition=='left_arc':\n",
    "                if left_arc_possible:\n",
    "                    head_found[stack[-1]]=(buffer[-1],label)\n",
    "                    perform_action(action='left_arc',label=label)\n",
    "                    break\n",
    "            if transition=='right_arc':\n",
    "                if right_arc_possible:\n",
    "                    head_found[buffer[-1]]=(stack[-1],label)\n",
    "                    perform_action(action='right_arc',label=label) \n",
    "                    break\n",
    "            if transition=='reduce':\n",
    "                if reduce_possible:\n",
    "                    perform_action(action='reduce')\n",
    "                    break\n",
    "            if transition=='shift':\n",
    "                perform_action(action='shift')\n",
    "                break\n",
    "    return head_found"
   ]
  },
  {
   "cell_type": "code",
   "execution_count": 18,
   "metadata": {},
   "outputs": [],
   "source": [
    "def get_model():\n",
    "    sentences=get_sentences(train_file_stat)\n",
    "    filt_sentences=filter_non_projective(sentences)\n",
    "    data={}\n",
    "    label={}\n",
    "    counter=0\n",
    "    for i in tqdm(range(len(filt_sentences))):\n",
    "        states,transitions=parse_eager(filt_sentences[i])\n",
    "        counter=extract_features(states,transitions,filt_sentences[i],data,counter,label)\n",
    "    df = pd.DataFrame.from_dict(data,'index')\n",
    "    label=np.array(list(label.values()))\n",
    "    enc = OneHotEncoder(handle_unknown='ignore',sparse=True,dtype=int)\n",
    "    x=enc.fit_transform(df)\n",
    "    model= BernoulliNB()\n",
    "    model.fit(x,label)\n",
    "    return model,enc"
   ]
  },
  {
   "cell_type": "code",
   "execution_count": 19,
   "metadata": {},
   "outputs": [
    {
     "data": {
      "application/vnd.jupyter.widget-view+json": {
       "model_id": "797a5aac6da94b88b1aa97c3a853bed5",
       "version_major": 2,
       "version_minor": 0
      },
      "text/plain": [
       "HBox(children=(FloatProgress(value=0.0, max=11467.0), HTML(value='')))"
      ]
     },
     "metadata": {},
     "output_type": "display_data"
    },
    {
     "name": "stdout",
     "output_type": "stream",
     "text": [
      "\n"
     ]
    }
   ],
   "source": [
    "model,enc=get_model()"
   ]
  },
  {
   "cell_type": "code",
   "execution_count": 20,
   "metadata": {},
   "outputs": [],
   "source": [
    "sentences=get_sentences(test_file_stat)"
   ]
  },
  {
   "cell_type": "code",
   "execution_count": 21,
   "metadata": {},
   "outputs": [],
   "source": [
    "filt_sentences=filter_non_projective(sentences)"
   ]
  },
  {
   "cell_type": "code",
   "execution_count": 28,
   "metadata": {},
   "outputs": [
    {
     "data": {
      "application/vnd.jupyter.widget-view+json": {
       "model_id": "06ac60b96b35472da01c941eb6a4f86a",
       "version_major": 2,
       "version_minor": 0
      },
      "text/plain": [
       "HBox(children=(FloatProgress(value=0.0, max=1473.0), HTML(value='')))"
      ]
     },
     "metadata": {},
     "output_type": "display_data"
    },
    {
     "name": "stdout",
     "output_type": "stream",
     "text": [
      "\n"
     ]
    }
   ],
   "source": [
    "total=0\n",
    "labeled=0\n",
    "unlabelled=0\n",
    "for i in tqdm(range(len(filt_sentences))):\n",
    "    sentence=filt_sentences[i]\n",
    "    heads=parse_eager_test(sentence,model,enc)\n",
    "    for node in heads:\n",
    "        head,label=heads[node]\n",
    "        label=label.split(':')[0]\n",
    "        total+=1\n",
    "        if sentence[node]['head']==head:\n",
    "            unlabelled+=1\n",
    "            if sentence[node]['deprel'].split(':')[0]==label:\n",
    "                labeled+=1"
   ]
  },
  {
   "cell_type": "code",
   "execution_count": 29,
   "metadata": {},
   "outputs": [
    {
     "name": "stdout",
     "output_type": "stream",
     "text": [
      "29146 20025 18409\n"
     ]
    }
   ],
   "source": [
    "print(total,unlabelled,labeled)"
   ]
  },
  {
   "cell_type": "code",
   "execution_count": 31,
   "metadata": {},
   "outputs": [
    {
     "data": {
      "text/plain": [
       "0.6316132573938105"
      ]
     },
     "execution_count": 31,
     "metadata": {},
     "output_type": "execute_result"
    }
   ],
   "source": [
    "labeled/total"
   ]
  },
  {
   "cell_type": "code",
   "execution_count": null,
   "metadata": {},
   "outputs": [],
   "source": [
    "filt_sentences[1]"
   ]
  },
  {
   "cell_type": "code",
   "execution_count": 22,
   "metadata": {},
   "outputs": [
    {
     "name": "stdout",
     "output_type": "stream",
     "text": [
      "([14, 13, 12, 11, 10, 9, 8, 7, 6, 5, 4, 3, 2, 1], [0], {})\n",
      "shift \n",
      "([14, 13, 12, 11, 10, 9, 8, 7, 6, 5, 4, 3, 2], [0, 1], {})\n",
      "shift \n",
      "([14, 13, 12, 11, 10, 9, 8, 7, 6, 5, 4, 3], [0, 1, 2], {})\n",
      "left_arc amod\n",
      "([14, 13, 12, 11, 10, 9, 8, 7, 6, 5, 4, 3], [0, 1], {3: [(2, 'amod')]})\n",
      "left_arc nmod\n",
      "([14, 13, 12, 11, 10, 9, 8, 7, 6, 5, 4, 3], [0], {3: [(2, 'amod'), (1, 'nmod')]})\n",
      "right_arc root\n",
      "([14, 13, 12, 11, 10, 9, 8, 7, 6, 5, 4], [0, 3], {3: [(2, 'amod'), (1, 'nmod')], 0: [(3, 'root')]})\n",
      "shift \n",
      "([14, 13, 12, 11, 10, 9, 8, 7, 6, 5], [0, 3, 4], {3: [(2, 'amod'), (1, 'nmod')], 0: [(3, 'root')]})\n",
      "shift \n",
      "([14, 13, 12, 11, 10, 9, 8, 7, 6], [0, 3, 4, 5], {3: [(2, 'amod'), (1, 'nmod')], 0: [(3, 'root')]})\n",
      "left_arc amod\n",
      "([14, 13, 12, 11, 10, 9, 8, 7, 6], [0, 3, 4], {3: [(2, 'amod'), (1, 'nmod')], 0: [(3, 'root')], 6: [(5, 'amod')]})\n",
      "shift \n",
      "([14, 13, 12, 11, 10, 9, 8, 7], [0, 3, 4, 6], {3: [(2, 'amod'), (1, 'nmod')], 0: [(3, 'root')], 6: [(5, 'amod')]})\n",
      "right_arc case\n",
      "([14, 13, 12, 11, 10, 9, 8], [0, 3, 4, 6, 7], {3: [(2, 'amod'), (1, 'nmod')], 0: [(3, 'root')], 6: [(5, 'amod'), (7, 'case')]})\n",
      "reduce \n",
      "([14, 13, 12, 11, 10, 9, 8], [0, 3, 4, 6], {3: [(2, 'amod'), (1, 'nmod')], 0: [(3, 'root')], 6: [(5, 'amod'), (7, 'case')]})\n",
      "shift \n",
      "([14, 13, 12, 11, 10, 9], [0, 3, 4, 6, 8], {3: [(2, 'amod'), (1, 'nmod')], 0: [(3, 'root')], 6: [(5, 'amod'), (7, 'case')]})\n",
      "shift \n",
      "([14, 13, 12, 11, 10], [0, 3, 4, 6, 8, 9], {3: [(2, 'amod'), (1, 'nmod')], 0: [(3, 'root')], 6: [(5, 'amod'), (7, 'case')]})\n",
      "right_arc dep\n",
      "([14, 13, 12, 11], [0, 3, 4, 6, 8, 9, 10], {3: [(2, 'amod'), (1, 'nmod')], 0: [(3, 'root')], 6: [(5, 'amod'), (7, 'case')], 9: [(10, 'dep')]})\n",
      "reduce \n",
      "([14, 13, 12, 11], [0, 3, 4, 6, 8, 9], {3: [(2, 'amod'), (1, 'nmod')], 0: [(3, 'root')], 6: [(5, 'amod'), (7, 'case')], 9: [(10, 'dep')]})\n",
      "shift \n",
      "([14, 13, 12], [0, 3, 4, 6, 8, 9, 11], {3: [(2, 'amod'), (1, 'nmod')], 0: [(3, 'root')], 6: [(5, 'amod'), (7, 'case')], 9: [(10, 'dep')]})\n",
      "left_arc amod\n",
      "([14, 13, 12], [0, 3, 4, 6, 8, 9], {3: [(2, 'amod'), (1, 'nmod')], 0: [(3, 'root')], 6: [(5, 'amod'), (7, 'case')], 9: [(10, 'dep')], 12: [(11, 'amod')]})\n",
      "left_arc det\n",
      "([14, 13, 12], [0, 3, 4, 6, 8], {3: [(2, 'amod'), (1, 'nmod')], 0: [(3, 'root')], 6: [(5, 'amod'), (7, 'case')], 9: [(10, 'dep')], 12: [(11, 'amod'), (9, 'det')]})\n",
      "left_arc nummod\n",
      "([14, 13, 12], [0, 3, 4, 6], {3: [(2, 'amod'), (1, 'nmod')], 0: [(3, 'root')], 6: [(5, 'amod'), (7, 'case')], 9: [(10, 'dep')], 12: [(11, 'amod'), (9, 'det'), (8, 'nummod')]})\n",
      "left_arc nmod\n",
      "([14, 13, 12], [0, 3, 4], {3: [(2, 'amod'), (1, 'nmod')], 0: [(3, 'root')], 6: [(5, 'amod'), (7, 'case')], 9: [(10, 'dep')], 12: [(11, 'amod'), (9, 'det'), (8, 'nummod'), (6, 'nmod')]})\n",
      "left_arc mark\n",
      "([14, 13, 12], [0, 3], {3: [(2, 'amod'), (1, 'nmod')], 0: [(3, 'root')], 6: [(5, 'amod'), (7, 'case')], 9: [(10, 'dep')], 12: [(11, 'amod'), (9, 'det'), (8, 'nummod'), (6, 'nmod'), (4, 'mark')]})\n",
      "shift \n",
      "([14, 13], [0, 3, 12], {3: [(2, 'amod'), (1, 'nmod')], 0: [(3, 'root')], 6: [(5, 'amod'), (7, 'case')], 9: [(10, 'dep')], 12: [(11, 'amod'), (9, 'det'), (8, 'nummod'), (6, 'nmod'), (4, 'mark')]})\n",
      "left_arc obj\n",
      "([14, 13], [0, 3], {3: [(2, 'amod'), (1, 'nmod')], 0: [(3, 'root')], 6: [(5, 'amod'), (7, 'case')], 9: [(10, 'dep')], 12: [(11, 'amod'), (9, 'det'), (8, 'nummod'), (6, 'nmod'), (4, 'mark')], 13: [(12, 'obj')]})\n",
      "right_arc cop\n",
      "([14], [0, 3, 13], {3: [(2, 'amod'), (1, 'nmod'), (13, 'cop')], 0: [(3, 'root')], 6: [(5, 'amod'), (7, 'case')], 9: [(10, 'dep')], 12: [(11, 'amod'), (9, 'det'), (8, 'nummod'), (6, 'nmod'), (4, 'mark')], 13: [(12, 'obj')]})\n",
      "right_arc punct\n",
      "14 6 6\n"
     ]
    }
   ],
   "source": [
    "total=0\n",
    "labeled=0\n",
    "unlabelled=0\n",
    "sentence=filt_sentences[0]\n",
    "heads=parse_eager_test(sentence,model,enc)\n",
    "for node in heads:\n",
    "    head,label=heads[node]\n",
    "    label=label.split(':')[0]\n",
    "    total+=1\n",
    "    if sentence[node]['head']==head:\n",
    "        unlabelled+=1\n",
    "        if sentence[node]['deprel'].split(':')[0]==label:\n",
    "            labeled+=1\n",
    "print(total,unlabelled,labeled)"
   ]
  },
  {
   "cell_type": "code",
   "execution_count": 23,
   "metadata": {},
   "outputs": [
    {
     "data": {
      "text/plain": [
       "{2: (3, 'amod'),\n",
       " 1: (3, 'nmod'),\n",
       " 3: (0, 'root'),\n",
       " 5: (6, 'amod'),\n",
       " 7: (6, 'case'),\n",
       " 10: (9, 'dep'),\n",
       " 11: (12, 'amod'),\n",
       " 9: (12, 'det'),\n",
       " 8: (12, 'nummod'),\n",
       " 6: (12, 'nmod'),\n",
       " 4: (12, 'mark'),\n",
       " 12: (13, 'obj'),\n",
       " 13: (3, 'cop'),\n",
       " 14: (13, 'punct')}"
      ]
     },
     "execution_count": 23,
     "metadata": {},
     "output_type": "execute_result"
    }
   ],
   "source": [
    "heads"
   ]
  },
  {
   "cell_type": "code",
   "execution_count": 24,
   "metadata": {},
   "outputs": [
    {
     "data": {
      "text/plain": [
       "{1: {'form': 'यहाँ',\n",
       "  'lemma': 'यहाँ',\n",
       "  'upos': 'PRON',\n",
       "  'xpos': 'PRP',\n",
       "  'head': 12,\n",
       "  'deprel': 'nmod'},\n",
       " 2: {'form': 'गर्म',\n",
       "  'lemma': 'गर्म',\n",
       "  'upos': 'ADJ',\n",
       "  'xpos': 'JJ',\n",
       "  'head': 3,\n",
       "  'deprel': 'amod'},\n",
       " 3: {'form': 'पानी',\n",
       "  'lemma': 'पानी',\n",
       "  'upos': 'NOUN',\n",
       "  'xpos': 'NN',\n",
       "  'head': 12,\n",
       "  'deprel': 'nmod'},\n",
       " 4: {'form': 'और',\n",
       "  'lemma': 'और',\n",
       "  'upos': 'CCONJ',\n",
       "  'xpos': 'CC',\n",
       "  'head': 6,\n",
       "  'deprel': 'cc'},\n",
       " 5: {'form': 'ठंडे',\n",
       "  'lemma': 'ठंडा',\n",
       "  'upos': 'ADJ',\n",
       "  'xpos': 'JJ',\n",
       "  'head': 6,\n",
       "  'deprel': 'amod'},\n",
       " 6: {'form': 'पानी',\n",
       "  'lemma': 'पानी',\n",
       "  'upos': 'NOUN',\n",
       "  'xpos': 'NN',\n",
       "  'head': 3,\n",
       "  'deprel': 'conj'},\n",
       " 7: {'form': 'के',\n",
       "  'lemma': 'का',\n",
       "  'upos': 'ADP',\n",
       "  'xpos': 'PSP',\n",
       "  'head': 3,\n",
       "  'deprel': 'case'},\n",
       " 8: {'form': 'दो',\n",
       "  'lemma': 'दो',\n",
       "  'upos': 'NUM',\n",
       "  'xpos': 'QC',\n",
       "  'head': 12,\n",
       "  'deprel': 'nummod'},\n",
       " 9: {'form': 'बहुत',\n",
       "  'lemma': 'बहुत',\n",
       "  'upos': 'DET',\n",
       "  'xpos': 'QF',\n",
       "  'head': 12,\n",
       "  'deprel': 'det'},\n",
       " 10: {'form': 'ही',\n",
       "  'lemma': 'ही',\n",
       "  'upos': 'PART',\n",
       "  'xpos': 'RP',\n",
       "  'head': 9,\n",
       "  'deprel': 'dep'},\n",
       " 11: {'form': 'उत्तम',\n",
       "  'lemma': 'उत्तम',\n",
       "  'upos': 'ADJ',\n",
       "  'xpos': 'JJ',\n",
       "  'head': 12,\n",
       "  'deprel': 'amod'},\n",
       " 12: {'form': 'कुंड',\n",
       "  'lemma': 'कुंड',\n",
       "  'upos': 'NOUN',\n",
       "  'xpos': 'NN',\n",
       "  'head': 0,\n",
       "  'deprel': 'root'},\n",
       " 13: {'form': 'हैं',\n",
       "  'lemma': 'है',\n",
       "  'upos': 'AUX',\n",
       "  'xpos': 'VM',\n",
       "  'head': 12,\n",
       "  'deprel': 'cop'},\n",
       " 14: {'form': '।',\n",
       "  'lemma': '।',\n",
       "  'upos': 'PUNCT',\n",
       "  'xpos': 'SYM',\n",
       "  'head': 12,\n",
       "  'deprel': 'punct'}}"
      ]
     },
     "execution_count": 24,
     "metadata": {},
     "output_type": "execute_result"
    }
   ],
   "source": [
    "filt_sentences[4]"
   ]
  },
  {
   "cell_type": "code",
   "execution_count": null,
   "metadata": {},
   "outputs": [],
   "source": [
    "total=0\n",
    "labeled=0\n",
    "unlabelled=0\n",
    "for node in heads:\n",
    "    head,label=heads[node]\n",
    "    label=label.split(':')[0]\n",
    "    total+=1\n",
    "    if filt_sentences[1][node]['head']==head:\n",
    "        unlabelled+=1\n",
    "        if filt_sentences[1][node]['deprel'].split(':')[0]==label:\n",
    "            labeled+=1\n",
    "print(total,labeled,unlabelled)"
   ]
  },
  {
   "cell_type": "code",
   "execution_count": null,
   "metadata": {},
   "outputs": [],
   "source": [
    "states"
   ]
  },
  {
   "cell_type": "code",
   "execution_count": null,
   "metadata": {},
   "outputs": [],
   "source": [
    "filt_sentences[1]"
   ]
  },
  {
   "cell_type": "code",
   "execution_count": null,
   "metadata": {},
   "outputs": [],
   "source": [
    "filt_sentences=filter_non_projective(sentences)"
   ]
  },
  {
   "cell_type": "code",
   "execution_count": null,
   "metadata": {},
   "outputs": [],
   "source": [
    "len(filt_sentences)"
   ]
  },
  {
   "cell_type": "code",
   "execution_count": null,
   "metadata": {},
   "outputs": [],
   "source": [
    "feature_names=get_feature_names(['single_words'])\n",
    "feature_names.append('transition')"
   ]
  },
  {
   "cell_type": "code",
   "execution_count": null,
   "metadata": {},
   "outputs": [],
   "source": [
    "\n",
    "data={}\n",
    "label={}\n",
    "counter=0\n",
    "for i in tqdm(range(len(filt_sentences))):\n",
    "    states,transitions=parse_eager(filt_sentences[i])\n",
    "    counter=extract_features_oneword(states,transitions,filt_sentences[i],data,counter,label)\n",
    "    #counter=extract_features(states,transitions,feature_names,filt_sentences[i],data,counter)"
   ]
  },
  {
   "cell_type": "code",
   "execution_count": null,
   "metadata": {},
   "outputs": [],
   "source": [
    "df = pd.DataFrame.from_dict(data,'index')"
   ]
  },
  {
   "cell_type": "code",
   "execution_count": null,
   "metadata": {},
   "outputs": [],
   "source": [
    "df"
   ]
  },
  {
   "cell_type": "code",
   "execution_count": null,
   "metadata": {},
   "outputs": [],
   "source": [
    "label=np.array(list(label.values()))"
   ]
  },
  {
   "cell_type": "code",
   "execution_count": null,
   "metadata": {},
   "outputs": [],
   "source": [
    "\n",
    "enc = OneHotEncoder(handle_unknown='ignore',sparse=True,dtype=int)\n",
    "x=enc.fit_transform(df)"
   ]
  },
  {
   "cell_type": "code",
   "execution_count": null,
   "metadata": {},
   "outputs": [],
   "source": [
    "x"
   ]
  },
  {
   "cell_type": "code",
   "execution_count": null,
   "metadata": {},
   "outputs": [],
   "source": [
    "\n",
    "model=model = BernoulliNB()\n",
    "model.fit(x,label)"
   ]
  },
  {
   "cell_type": "code",
   "execution_count": null,
   "metadata": {},
   "outputs": [],
   "source": [
    "states,transitions=parse_eager(sentences[0])\n"
   ]
  },
  {
   "cell_type": "code",
   "execution_count": null,
   "metadata": {},
   "outputs": [],
   "source": [
    "df"
   ]
  },
  {
   "cell_type": "code",
   "execution_count": null,
   "metadata": {},
   "outputs": [],
   "source": [
    "df=extract_features_oneword(states,transitions,sentences[0])\n",
    "df"
   ]
  },
  {
   "cell_type": "code",
   "execution_count": null,
   "metadata": {},
   "outputs": [],
   "source": [
    "buffer,stack,arcs=states[0]"
   ]
  },
  {
   "cell_type": "code",
   "execution_count": null,
   "metadata": {},
   "outputs": [],
   "source": [
    "for i in range(len(states)):\n",
    "    print('buffer:\\t',states[i][0])\n",
    "    print('stack:\\t',states[i][1])\n",
    "    print('arcs:\\t',states[i][2])\n",
    "    print('transition:\\t',transitions[i])"
   ]
  },
  {
   "cell_type": "code",
   "execution_count": null,
   "metadata": {},
   "outputs": [],
   "source": [
    "sentences[0]"
   ]
  },
  {
   "cell_type": "code",
   "execution_count": null,
   "metadata": {},
   "outputs": [],
   "source": [
    "import itertools\n",
    "a=['1','23','e']\n",
    "b=['d','232','wewe']\n",
    "for x,y in zip(a,b):\n",
    "    print(x)\n",
    "    print(y)"
   ]
  },
  {
   "cell_type": "code",
   "execution_count": null,
   "metadata": {},
   "outputs": [],
   "source": [
    "def do_something(a,counter):\n",
    "    a[4]='dsds'\n",
    "    counter=5"
   ]
  },
  {
   "cell_type": "code",
   "execution_count": null,
   "metadata": {},
   "outputs": [],
   "source": [
    "a={1:'dsa',2:'asd',3:'d'}\n",
    "counter=1\n",
    "do_something(a,counter)\n",
    "print(a)\n",
    "print(counter)"
   ]
  },
  {
   "cell_type": "code",
   "execution_count": null,
   "metadata": {},
   "outputs": [],
   "source": [
    "sentences=get_sentences(train_file_stat)\n",
    "filt_sentences=filter_non_projective(sentences)\n",
    "data={}\n",
    "label={}\n",
    "counter=0\n"
   ]
  },
  {
   "cell_type": "code",
   "execution_count": null,
   "metadata": {},
   "outputs": [],
   "source": [
    "states,transitions=parse_eager(filt_sentences[3])"
   ]
  },
  {
   "cell_type": "code",
   "execution_count": null,
   "metadata": {},
   "outputs": [],
   "source": [
    "for state,transition in zip(states,transitions):\n",
    "    print(state)\n",
    "    print(transition)"
   ]
  },
  {
   "cell_type": "code",
   "execution_count": null,
   "metadata": {},
   "outputs": [],
   "source": [
    "filt_sentences[3]"
   ]
  },
  {
   "cell_type": "code",
   "execution_count": null,
   "metadata": {},
   "outputs": [],
   "source": [
    "states[-1][2]"
   ]
  },
  {
   "cell_type": "code",
   "execution_count": null,
   "metadata": {},
   "outputs": [],
   "source": [
    "len(model.classes_)"
   ]
  },
  {
   "cell_type": "code",
   "execution_count": null,
   "metadata": {},
   "outputs": [],
   "source": []
  }
 ],
 "metadata": {
  "kernelspec": {
   "display_name": "Python 3",
   "language": "python",
   "name": "python3"
  },
  "language_info": {
   "codemirror_mode": {
    "name": "ipython",
    "version": 3
   },
   "file_extension": ".py",
   "mimetype": "text/x-python",
   "name": "python",
   "nbconvert_exporter": "python",
   "pygments_lexer": "ipython3",
   "version": "3.8.3"
  }
 },
 "nbformat": 4,
 "nbformat_minor": 4
}
