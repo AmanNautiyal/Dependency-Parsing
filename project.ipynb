{
 "cells": [
  {
   "cell_type": "code",
   "execution_count": 2,
   "metadata": {},
   "outputs": [],
   "source": [
    "train_file_sent=\"UD_Hindi-HDTB/hi_hdtb-ud-train.txt\"\n",
    "train_file_stat=\"UD_Hindi-HDTB/hi_hdtb-ud-train.conllu\" \n",
    "test_file_sent=\"UD_Hindi-HDTB/hi_hdtb-ud-test.txt\"\n",
    "test_file_stat=\"UD_Hindi-HDTB/hi_hdtb-ud-test.conllu\" \n",
    "val_file_sent=\"UD_Hindi-HDTB/hi_hdtb-ud-dev.txt\"\n",
    "val_file_stat=\"UD_Hindi-HDTB/hi_hdtb-ud-dev.conllu\" "
   ]
  },
  {
   "cell_type": "code",
   "execution_count": 3,
   "metadata": {},
   "outputs": [],
   "source": [
    "def file_lines(name):\n",
    "    lines=[]\n",
    "    with open(name,'r',encoding = 'utf-8') as f:\n",
    "        lines=f.readlines()\n",
    "    for i in range(0,len(lines)):\n",
    "        lines[i]=lines[i].strip().split('\\t')\n",
    "    return lines"
   ]
  },
  {
   "cell_type": "code",
   "execution_count": 4,
   "metadata": {},
   "outputs": [],
   "source": [
    "def extract_stats(line):\n",
    "    stats=dict()\n",
    "    stats['form']=line[1]\n",
    "    stats['lemma']=line[2]\n",
    "    stats['upos']=line[3]\n",
    "    stats['xpos']=line[4]\n",
    "    stats['head']=int(line[6])\n",
    "    stats['deprel']=line[7]\n",
    "    return int(line[0]),stats"
   ]
  },
  {
   "cell_type": "code",
   "execution_count": 5,
   "metadata": {},
   "outputs": [],
   "source": [
    "def path_exists(head,i,graph):\n",
    "    while i!=head and i!=0:\n",
    "        i=graph[i]\n",
    "    return i==head\n",
    "def projectivity(sentence):\n",
    "    graph=dict()\n",
    "    for word in sentence:\n",
    "        word_id=word\n",
    "        head_id=sentence[word_id]['head']\n",
    "        graph[word_id]=head_id\n",
    "    for dependent in graph:\n",
    "        head=graph[dependent]\n",
    "        l= min(head,dependent)+1\n",
    "        r=max(head,dependent)\n",
    "        for i in range(l,r,1):\n",
    "            if not path_exists(head,i,graph):\n",
    "                return False            \n",
    "    return True"
   ]
  },
  {
   "cell_type": "code",
   "execution_count": 6,
   "metadata": {},
   "outputs": [],
   "source": [
    "def filter_non_projective(sentences):\n",
    "    filt_sentences=[sentence for sentence in sentences if projectivity(sentence)]\n",
    "    return filt_sentences"
   ]
  },
  {
   "cell_type": "code",
   "execution_count": 7,
   "metadata": {},
   "outputs": [],
   "source": [
    "def get_sentences(file):\n",
    "    lines=file_lines(file)\n",
    "    sentences=[]\n",
    "    sentence={}\n",
    "    for line in lines:\n",
    "        if len(line)<10:\n",
    "            if len(sentence)>0:\n",
    "                #do something with sentence\n",
    "                sentences.append(sentence)\n",
    "                sentence={}\n",
    "        else:\n",
    "            id,stats=extract_stats(line)\n",
    "            sentence[id]=stats\n",
    "    return sentences"
   ]
  },
  {
   "cell_type": "code",
   "execution_count": 8,
   "metadata": {},
   "outputs": [],
   "source": [
    "from collections import defaultdict\n",
    "def parse(sentence):\n",
    "    buffer=list()\n",
    "    stack=[0]\n",
    "    arcs=list()\n",
    "    states=[]\n",
    "    transitions=[]\n",
    "    def perform_action(action,label=''):\n",
    "        nonlocal buffer,stack,arcs,states,transitions\n",
    "        states.append((list(buffer),list(stack),list(arcs)))\n",
    "        transitions.append((action,label))\n",
    "        if action=='shift':\n",
    "            stack.append(buffer.pop())\n",
    "        elif action=='left_arc':\n",
    "            arcs.append((stack[-1],stack[-2],label))\n",
    "            stack.pop(-2)\n",
    "        elif action=='right_arc':\n",
    "            arcs.append((stack[-2],stack[-1],label))\n",
    "            stack.pop()\n",
    "    dependency_graph = defaultdict(lambda: defaultdict())\n",
    "    for word in reversed(sentence): #store in reverse in buffer, so top of buffer is first word\n",
    "        buffer.append(word['id'])\n",
    "        dependency_graph[word['head']][word['id']]=word['deprel']\n",
    "    states=[]\n",
    "    transitions=[]\n",
    "    head_found=dict()\n",
    "    while not (len(stack)==1 and stack[0]==0 and len(buffer)==0):\n",
    "        if len(stack)>=2:\n",
    "            if dependency_graph.get(stack[-1]) is not None and dependency_graph[stack[-1]].get(stack[-2]) is not None:\n",
    "                head_found[stack[-2]]=True\n",
    "                perform_action(action='left_arc',label=dependency_graph[stack[-1]][stack[-2]])\n",
    "            elif dependency_graph.get(stack[-2]) is not None and dependency_graph[stack[-2]].get(stack[-1]) is not None:\n",
    "                if dependency_graph.get(stack[-1]) is not None and any([dependent not in head_found for dependent in dependency_graph[stack[-1]].keys()]):\n",
    "                    perform_action(action='shift')\n",
    "                else:\n",
    "                    head_found[stack[-1]]=True\n",
    "                    perform_action(action='right_arc',label=dependency_graph[stack[-2]][stack[-1]])\n",
    "            else:\n",
    "                perform_action(action='shift')\n",
    "        else:\n",
    "            perform_action(action='shift')\n",
    "    return states,transitions"
   ]
  },
  {
   "cell_type": "code",
   "execution_count": 9,
   "metadata": {},
   "outputs": [],
   "source": [
    "from collections import defaultdict\n",
    "def parse_eager(sentence):\n",
    "    buffer=list()\n",
    "    stack=[0]\n",
    "    arcs={}\n",
    "    states=[]\n",
    "    transitions=[]\n",
    "    def perform_action(action,label=''):\n",
    "        nonlocal buffer,stack,arcs,states,transitions\n",
    "        states.append((list(buffer),list(stack),arcs.copy()))\n",
    "        transitions.append((action,label))\n",
    "        if action=='shift':\n",
    "            stack.append(buffer.pop())\n",
    "        elif action=='reduce':\n",
    "            stack.pop()\n",
    "        elif action=='left_arc':\n",
    "            if arcs.get(buffer[-1])==None:\n",
    "                arcs[buffer[-1]]=[(stack.pop(),label)]\n",
    "            else:\n",
    "                arcs[buffer[-1]].append((stack.pop(),label))\n",
    "        elif action=='right_arc':\n",
    "            if arcs.get(stack[-1])==None:\n",
    "                arcs[stack[-1]]=[(buffer[-1],label)]\n",
    "            else:\n",
    "                arcs[stack[-1]].append((buffer[-1],label))\n",
    "            stack.append(buffer.pop())\n",
    "    dependency_graph = defaultdict(lambda: defaultdict())\n",
    "    for word in reversed(sentence): #store in reverse in buffer, so top of buffer is first word\n",
    "        buffer.append(word)\n",
    "        dependency_graph[sentence[word]['head']][word]=sentence[word]['deprel']\n",
    "    head_found=dict()\n",
    "    while not len(buffer)==0:\n",
    "        if len(stack)>=1:\n",
    "            if head_found.get(stack[-1])==None and dependency_graph.get(buffer[-1]) is not None and dependency_graph[buffer[-1]].get(stack[-1]) is not None:\n",
    "                head_found[stack[-1]]=True\n",
    "                perform_action(action='left_arc',label=dependency_graph[buffer[-1]][stack[-1]])\n",
    "            elif dependency_graph.get(stack[-1]) is not None and dependency_graph[stack[-1]].get(buffer[-1]) is not None:\n",
    "                head_found[buffer[-1]]=True\n",
    "                perform_action(action='right_arc',label=dependency_graph[stack[-1]][buffer[-1]])\n",
    "            elif head_found.get(stack[-1])!=None:\n",
    "                perform_action(action='reduce')\n",
    "            else:\n",
    "                perform_action(action='shift')\n",
    "        else:\n",
    "            perform_action(action='shift')\n",
    "    return states,transitions"
   ]
  },
  {
   "cell_type": "code",
   "execution_count": 10,
   "metadata": {},
   "outputs": [],
   "source": [
    "def get_feature_names(feature_array):\n",
    "    feature_names=[]\n",
    "    if 'single_words' in feature_array:\n",
    "        feature_names.extend(['S0_w_p','S0_w','S0_p','N0_w_p','N0_w','N0_p','N1_w_p','N1_w','N1_p','N2_w_p','N2_w','N2_p'])\n",
    "    return feature_names\n",
    "    "
   ]
  },
  {
   "cell_type": "code",
   "execution_count": 11,
   "metadata": {},
   "outputs": [],
   "source": [
    "import numpy as np\n",
    "import pandas as pd\n",
    "import itertools\n",
    "def extract_features_oneword(states,transitions,sentence,data,counter,label=-1):\n",
    "    for state,transition in zip(states,transitions):\n",
    "        buffer,stack,arcs=state\n",
    "        row={}\n",
    "        if len(stack)>1:\n",
    "            row['S0_w']=sentence[stack[-1]]['form']\n",
    "            row['S0_p']=sentence[stack[-1]]['xpos']\n",
    "            row['S0_w_p']=sentence[stack[-1]]['form']+'_'+sentence[stack[-1]]['xpos']\n",
    "        else:\n",
    "            row['S0_w']='None'\n",
    "            row['S0_p']='None'\n",
    "            row['S0_w_p']='None'\n",
    "        if len(buffer)>=1:\n",
    "            row['N0_w']=sentence[buffer[-1]]['form']\n",
    "            row['N0_p']=sentence[buffer[-1]]['xpos']\n",
    "            row['N0_w_p']=sentence[buffer[-1]]['form']+'_'+sentence[buffer[-1]]['xpos']\n",
    "        else:\n",
    "            row['N0_w']='None'\n",
    "            row['N0_p']='None'\n",
    "            row['N0_w_p']='None'\n",
    "        if len(buffer)>=2:\n",
    "            row['N1_w']=sentence[buffer[-2]]['form']\n",
    "            row['N1_p']=sentence[buffer[-2]]['xpos']\n",
    "            row['N1_w_p']=sentence[buffer[-2]]['form']+'_'+sentence[buffer[-2]]['xpos']\n",
    "        else:\n",
    "            row['N1_w']='None'\n",
    "            row['N1_p']='None'\n",
    "            row['N1_w_p']='None'\n",
    "        if len(buffer)>=3:\n",
    "            row['N2_w']=sentence[buffer[-3]]['form']\n",
    "            row['N2_p']=sentence[buffer[-3]]['xpos']\n",
    "            row['N2_w_p']=sentence[buffer[-3]]['form']+'_'+sentence[buffer[-3]]['xpos']\n",
    "        else:\n",
    "            row['N2_w']='None'\n",
    "            row['N2_p']='None'\n",
    "            row['N2_w_p']='None'\n",
    "        if label!=-1:\n",
    "            if transition[1]=='':\n",
    "                label[counter]=transition[0]\n",
    "            else:\n",
    "                label[counter]=transition[0]+','+transition[1]\n",
    "        data[counter]=row\n",
    "        counter+=1\n",
    "    return counter\n",
    "            "
   ]
  },
  {
   "cell_type": "code",
   "execution_count": 12,
   "metadata": {},
   "outputs": [],
   "source": [
    "import numpy as np\n",
    "import pandas as pd\n",
    "import itertools\n",
    "def extract_features(states,transitions,feature_names,sentence,data,counter,label=-1):\n",
    "    for state,transition in zip(states,transitions):\n",
    "        buffer,stack,arcs=state\n",
    "        row={}\n",
    "        for feature_name in feature_names[:-1]:\n",
    "            feature_tokens=feature_name.split('_')\n",
    "            cur_word=0\n",
    "            val=''\n",
    "            for token in feature_tokens:\n",
    "                \n",
    "                #determining word\n",
    "                if token[0]=='S':\n",
    "                    if int(token[1])<len(stack):\n",
    "                        cur_word=stack[-1-int(token[1])]\n",
    "                        if  cur_word==0:\n",
    "                            row[feature_name]='None'\n",
    "                            break\n",
    "                    else:\n",
    "                        row[feature_name]='None'\n",
    "                        break\n",
    "                elif token[0]=='N':\n",
    "                    if int(token[1])<len(buffer):\n",
    "                        cur_word=buffer[-1-int(token[1])]\n",
    "                        if  cur_word==0:\n",
    "                            row[feature_name]='None'\n",
    "                            break\n",
    "                    else:\n",
    "                        row[feature_name]='None'\n",
    "                        break\n",
    "                \n",
    "                #determining feature of the word\n",
    "                else:\n",
    "                    if token=='w':\n",
    "                        if len(val)==0:\n",
    "                            val=sentence[cur_word]['form']\n",
    "                            break\n",
    "                        else:\n",
    "                            val=val+'_'+sentence[cur_word]['form']\n",
    "                            break\n",
    "                    elif token=='p':\n",
    "                        if len(val)==0:\n",
    "                            val=sentence[cur_word]['xpos']\n",
    "                            break\n",
    "                        else:\n",
    "                            val=val+'_'+sentence[cur_word]['xpos']\n",
    "                            break\n",
    "                           \n",
    "            row[feature_name]=val\n",
    "        if transition[1]=='':\n",
    "            row['transition']=transition[0]\n",
    "        else:\n",
    "            row['transition']=transition[0]+','+transition[1]\n",
    "            \n",
    "        data[counter]=row\n",
    "        counter+=1\n",
    "    return counter\n",
    "                            "
   ]
  },
  {
   "cell_type": "code",
   "execution_count": 13,
   "metadata": {
    "scrolled": false
   },
   "outputs": [],
   "source": [
    "sentences=get_sentences(train_file_stat)"
   ]
  },
  {
   "cell_type": "code",
   "execution_count": 14,
   "metadata": {},
   "outputs": [
    {
     "data": {
      "text/plain": [
       "{1: {'form': 'यह',\n",
       "  'lemma': 'यह',\n",
       "  'upos': 'DET',\n",
       "  'xpos': 'DEM',\n",
       "  'head': 2,\n",
       "  'deprel': 'det'},\n",
       " 2: {'form': 'एशिया',\n",
       "  'lemma': 'एशिया',\n",
       "  'upos': 'PROPN',\n",
       "  'xpos': 'NNP',\n",
       "  'head': 6,\n",
       "  'deprel': 'nmod'},\n",
       " 3: {'form': 'की',\n",
       "  'lemma': 'का',\n",
       "  'upos': 'ADP',\n",
       "  'xpos': 'PSP',\n",
       "  'head': 2,\n",
       "  'deprel': 'case'},\n",
       " 4: {'form': 'सबसे',\n",
       "  'lemma': 'सबसे',\n",
       "  'upos': 'ADV',\n",
       "  'xpos': 'INTF',\n",
       "  'head': 5,\n",
       "  'deprel': 'advmod'},\n",
       " 5: {'form': 'बड़ी',\n",
       "  'lemma': 'बड़ा',\n",
       "  'upos': 'ADJ',\n",
       "  'xpos': 'JJ',\n",
       "  'head': 6,\n",
       "  'deprel': 'amod'},\n",
       " 6: {'form': 'मस्जिदों',\n",
       "  'lemma': 'मस्जिद',\n",
       "  'upos': 'NOUN',\n",
       "  'xpos': 'NN',\n",
       "  'head': 9,\n",
       "  'deprel': 'nmod'},\n",
       " 7: {'form': 'में',\n",
       "  'lemma': 'में',\n",
       "  'upos': 'ADP',\n",
       "  'xpos': 'PSP',\n",
       "  'head': 6,\n",
       "  'deprel': 'case'},\n",
       " 8: {'form': 'से',\n",
       "  'lemma': 'से',\n",
       "  'upos': 'ADP',\n",
       "  'xpos': 'PSP',\n",
       "  'head': 6,\n",
       "  'deprel': 'case'},\n",
       " 9: {'form': 'एक',\n",
       "  'lemma': 'एक',\n",
       "  'upos': 'NUM',\n",
       "  'xpos': 'QC',\n",
       "  'head': 0,\n",
       "  'deprel': 'root'},\n",
       " 10: {'form': 'है',\n",
       "  'lemma': 'है',\n",
       "  'upos': 'AUX',\n",
       "  'xpos': 'VM',\n",
       "  'head': 9,\n",
       "  'deprel': 'cop'},\n",
       " 11: {'form': '।',\n",
       "  'lemma': '।',\n",
       "  'upos': 'PUNCT',\n",
       "  'xpos': 'SYM',\n",
       "  'head': 9,\n",
       "  'deprel': 'punct'}}"
      ]
     },
     "execution_count": 14,
     "metadata": {},
     "output_type": "execute_result"
    }
   ],
   "source": [
    "sentences[0]"
   ]
  },
  {
   "cell_type": "code",
   "execution_count": 15,
   "metadata": {},
   "outputs": [],
   "source": [
    "filt_sentences=filter_non_projective(sentences)"
   ]
  },
  {
   "cell_type": "code",
   "execution_count": 16,
   "metadata": {},
   "outputs": [
    {
     "data": {
      "text/plain": [
       "11467"
      ]
     },
     "execution_count": 16,
     "metadata": {},
     "output_type": "execute_result"
    }
   ],
   "source": [
    "len(filt_sentences)"
   ]
  },
  {
   "cell_type": "code",
   "execution_count": 17,
   "metadata": {},
   "outputs": [],
   "source": [
    "feature_names=get_feature_names(['single_words'])\n",
    "feature_names.append('transition')"
   ]
  },
  {
   "cell_type": "code",
   "execution_count": 18,
   "metadata": {},
   "outputs": [
    {
     "data": {
      "application/vnd.jupyter.widget-view+json": {
       "model_id": "6094cd7390c84614b435daaaabc0c39b",
       "version_major": 2,
       "version_minor": 0
      },
      "text/plain": [
       "HBox(children=(FloatProgress(value=0.0, max=11467.0), HTML(value='')))"
      ]
     },
     "metadata": {},
     "output_type": "display_data"
    },
    {
     "name": "stdout",
     "output_type": "stream",
     "text": [
      "\n"
     ]
    }
   ],
   "source": [
    "import pandas as pd\n",
    "from tqdm.notebook import tqdm\n",
    "data={}\n",
    "label={}\n",
    "counter=0\n",
    "for i in tqdm(range(len(filt_sentences))):\n",
    "    states,transitions=parse_eager(filt_sentences[i])\n",
    "    counter=extract_features_oneword(states,transitions,filt_sentences[i],data,counter,label)\n",
    "    #counter=extract_features(states,transitions,feature_names,filt_sentences[i],data,counter)"
   ]
  },
  {
   "cell_type": "code",
   "execution_count": 19,
   "metadata": {},
   "outputs": [],
   "source": [
    "df = pd.DataFrame.from_dict(data,'index')"
   ]
  },
  {
   "cell_type": "code",
   "execution_count": 20,
   "metadata": {},
   "outputs": [
    {
     "data": {
      "text/html": [
       "<div>\n",
       "<style scoped>\n",
       "    .dataframe tbody tr th:only-of-type {\n",
       "        vertical-align: middle;\n",
       "    }\n",
       "\n",
       "    .dataframe tbody tr th {\n",
       "        vertical-align: top;\n",
       "    }\n",
       "\n",
       "    .dataframe thead th {\n",
       "        text-align: right;\n",
       "    }\n",
       "</style>\n",
       "<table border=\"1\" class=\"dataframe\">\n",
       "  <thead>\n",
       "    <tr style=\"text-align: right;\">\n",
       "      <th></th>\n",
       "      <th>S0_w</th>\n",
       "      <th>S0_p</th>\n",
       "      <th>S0_w_p</th>\n",
       "      <th>N0_w</th>\n",
       "      <th>N0_p</th>\n",
       "      <th>N0_w_p</th>\n",
       "      <th>N1_w</th>\n",
       "      <th>N1_p</th>\n",
       "      <th>N1_w_p</th>\n",
       "      <th>N2_w</th>\n",
       "      <th>N2_p</th>\n",
       "      <th>N2_w_p</th>\n",
       "    </tr>\n",
       "  </thead>\n",
       "  <tbody>\n",
       "    <tr>\n",
       "      <th>0</th>\n",
       "      <td>None</td>\n",
       "      <td>None</td>\n",
       "      <td>None</td>\n",
       "      <td>यह</td>\n",
       "      <td>DEM</td>\n",
       "      <td>यह_DEM</td>\n",
       "      <td>एशिया</td>\n",
       "      <td>NNP</td>\n",
       "      <td>एशिया_NNP</td>\n",
       "      <td>की</td>\n",
       "      <td>PSP</td>\n",
       "      <td>की_PSP</td>\n",
       "    </tr>\n",
       "    <tr>\n",
       "      <th>1</th>\n",
       "      <td>यह</td>\n",
       "      <td>DEM</td>\n",
       "      <td>यह_DEM</td>\n",
       "      <td>एशिया</td>\n",
       "      <td>NNP</td>\n",
       "      <td>एशिया_NNP</td>\n",
       "      <td>की</td>\n",
       "      <td>PSP</td>\n",
       "      <td>की_PSP</td>\n",
       "      <td>सबसे</td>\n",
       "      <td>INTF</td>\n",
       "      <td>सबसे_INTF</td>\n",
       "    </tr>\n",
       "    <tr>\n",
       "      <th>2</th>\n",
       "      <td>None</td>\n",
       "      <td>None</td>\n",
       "      <td>None</td>\n",
       "      <td>एशिया</td>\n",
       "      <td>NNP</td>\n",
       "      <td>एशिया_NNP</td>\n",
       "      <td>की</td>\n",
       "      <td>PSP</td>\n",
       "      <td>की_PSP</td>\n",
       "      <td>सबसे</td>\n",
       "      <td>INTF</td>\n",
       "      <td>सबसे_INTF</td>\n",
       "    </tr>\n",
       "    <tr>\n",
       "      <th>3</th>\n",
       "      <td>एशिया</td>\n",
       "      <td>NNP</td>\n",
       "      <td>एशिया_NNP</td>\n",
       "      <td>की</td>\n",
       "      <td>PSP</td>\n",
       "      <td>की_PSP</td>\n",
       "      <td>सबसे</td>\n",
       "      <td>INTF</td>\n",
       "      <td>सबसे_INTF</td>\n",
       "      <td>बड़ी</td>\n",
       "      <td>JJ</td>\n",
       "      <td>बड़ी_JJ</td>\n",
       "    </tr>\n",
       "    <tr>\n",
       "      <th>4</th>\n",
       "      <td>की</td>\n",
       "      <td>PSP</td>\n",
       "      <td>की_PSP</td>\n",
       "      <td>सबसे</td>\n",
       "      <td>INTF</td>\n",
       "      <td>सबसे_INTF</td>\n",
       "      <td>बड़ी</td>\n",
       "      <td>JJ</td>\n",
       "      <td>बड़ी_JJ</td>\n",
       "      <td>मस्जिदों</td>\n",
       "      <td>NN</td>\n",
       "      <td>मस्जिदों_NN</td>\n",
       "    </tr>\n",
       "    <tr>\n",
       "      <th>...</th>\n",
       "      <td>...</td>\n",
       "      <td>...</td>\n",
       "      <td>...</td>\n",
       "      <td>...</td>\n",
       "      <td>...</td>\n",
       "      <td>...</td>\n",
       "      <td>...</td>\n",
       "      <td>...</td>\n",
       "      <td>...</td>\n",
       "      <td>...</td>\n",
       "      <td>...</td>\n",
       "      <td>...</td>\n",
       "    </tr>\n",
       "    <tr>\n",
       "      <th>437546</th>\n",
       "      <td>दूतावास</td>\n",
       "      <td>NNP</td>\n",
       "      <td>दूतावास_NNP</td>\n",
       "      <td>किया</td>\n",
       "      <td>VM</td>\n",
       "      <td>किया_VM</td>\n",
       "      <td>।</td>\n",
       "      <td>SYM</td>\n",
       "      <td>।_SYM</td>\n",
       "      <td>None</td>\n",
       "      <td>None</td>\n",
       "      <td>None</td>\n",
       "    </tr>\n",
       "    <tr>\n",
       "      <th>437547</th>\n",
       "      <td>यहां</td>\n",
       "      <td>PRP</td>\n",
       "      <td>यहां_PRP</td>\n",
       "      <td>किया</td>\n",
       "      <td>VM</td>\n",
       "      <td>किया_VM</td>\n",
       "      <td>।</td>\n",
       "      <td>SYM</td>\n",
       "      <td>।_SYM</td>\n",
       "      <td>None</td>\n",
       "      <td>None</td>\n",
       "      <td>None</td>\n",
       "    </tr>\n",
       "    <tr>\n",
       "      <th>437548</th>\n",
       "      <td>उन्होंने</td>\n",
       "      <td>PRP</td>\n",
       "      <td>उन्होंने_PRP</td>\n",
       "      <td>किया</td>\n",
       "      <td>VM</td>\n",
       "      <td>किया_VM</td>\n",
       "      <td>।</td>\n",
       "      <td>SYM</td>\n",
       "      <td>।_SYM</td>\n",
       "      <td>None</td>\n",
       "      <td>None</td>\n",
       "      <td>None</td>\n",
       "    </tr>\n",
       "    <tr>\n",
       "      <th>437549</th>\n",
       "      <td>None</td>\n",
       "      <td>None</td>\n",
       "      <td>None</td>\n",
       "      <td>किया</td>\n",
       "      <td>VM</td>\n",
       "      <td>किया_VM</td>\n",
       "      <td>।</td>\n",
       "      <td>SYM</td>\n",
       "      <td>।_SYM</td>\n",
       "      <td>None</td>\n",
       "      <td>None</td>\n",
       "      <td>None</td>\n",
       "    </tr>\n",
       "    <tr>\n",
       "      <th>437550</th>\n",
       "      <td>किया</td>\n",
       "      <td>VM</td>\n",
       "      <td>किया_VM</td>\n",
       "      <td>।</td>\n",
       "      <td>SYM</td>\n",
       "      <td>।_SYM</td>\n",
       "      <td>None</td>\n",
       "      <td>None</td>\n",
       "      <td>None</td>\n",
       "      <td>None</td>\n",
       "      <td>None</td>\n",
       "      <td>None</td>\n",
       "    </tr>\n",
       "  </tbody>\n",
       "</table>\n",
       "<p>437551 rows × 12 columns</p>\n",
       "</div>"
      ],
      "text/plain": [
       "            S0_w  S0_p        S0_w_p   N0_w  N0_p     N0_w_p   N1_w  N1_p  \\\n",
       "0           None  None          None     यह   DEM     यह_DEM  एशिया   NNP   \n",
       "1             यह   DEM        यह_DEM  एशिया   NNP  एशिया_NNP     की   PSP   \n",
       "2           None  None          None  एशिया   NNP  एशिया_NNP     की   PSP   \n",
       "3          एशिया   NNP     एशिया_NNP     की   PSP     की_PSP   सबसे  INTF   \n",
       "4             की   PSP        की_PSP   सबसे  INTF  सबसे_INTF   बड़ी    JJ   \n",
       "...          ...   ...           ...    ...   ...        ...    ...   ...   \n",
       "437546   दूतावास   NNP   दूतावास_NNP   किया    VM    किया_VM      ।   SYM   \n",
       "437547      यहां   PRP      यहां_PRP   किया    VM    किया_VM      ।   SYM   \n",
       "437548  उन्होंने   PRP  उन्होंने_PRP   किया    VM    किया_VM      ।   SYM   \n",
       "437549      None  None          None   किया    VM    किया_VM      ।   SYM   \n",
       "437550      किया    VM       किया_VM      ।   SYM      ।_SYM   None  None   \n",
       "\n",
       "           N1_w_p      N2_w  N2_p       N2_w_p  \n",
       "0       एशिया_NNP        की   PSP       की_PSP  \n",
       "1          की_PSP      सबसे  INTF    सबसे_INTF  \n",
       "2          की_PSP      सबसे  INTF    सबसे_INTF  \n",
       "3       सबसे_INTF      बड़ी    JJ      बड़ी_JJ  \n",
       "4         बड़ी_JJ  मस्जिदों    NN  मस्जिदों_NN  \n",
       "...           ...       ...   ...          ...  \n",
       "437546      ।_SYM      None  None         None  \n",
       "437547      ।_SYM      None  None         None  \n",
       "437548      ।_SYM      None  None         None  \n",
       "437549      ।_SYM      None  None         None  \n",
       "437550       None      None  None         None  \n",
       "\n",
       "[437551 rows x 12 columns]"
      ]
     },
     "execution_count": 20,
     "metadata": {},
     "output_type": "execute_result"
    }
   ],
   "source": [
    "df"
   ]
  },
  {
   "cell_type": "code",
   "execution_count": 21,
   "metadata": {},
   "outputs": [],
   "source": [
    "label=np.array(list(label.values()))"
   ]
  },
  {
   "cell_type": "code",
   "execution_count": 22,
   "metadata": {},
   "outputs": [],
   "source": [
    "from sklearn.preprocessing import OneHotEncoder\n",
    "enc = OneHotEncoder(handle_unknown='ignore',sparse=True,dtype=int)\n",
    "x=enc.fit_transform(df)"
   ]
  },
  {
   "cell_type": "code",
   "execution_count": 23,
   "metadata": {},
   "outputs": [
    {
     "data": {
      "text/plain": [
       "<437551x138980 sparse matrix of type '<class 'numpy.int64'>'\n",
       "\twith 5250612 stored elements in Compressed Sparse Row format>"
      ]
     },
     "execution_count": 23,
     "metadata": {},
     "output_type": "execute_result"
    }
   ],
   "source": [
    "x"
   ]
  },
  {
   "cell_type": "code",
   "execution_count": 24,
   "metadata": {},
   "outputs": [
    {
     "data": {
      "text/plain": [
       "BernoulliNB()"
      ]
     },
     "execution_count": 24,
     "metadata": {},
     "output_type": "execute_result"
    }
   ],
   "source": [
    "from sklearn.naive_bayes import GaussianNB,BernoulliNB\n",
    "model=model = BernoulliNB()\n",
    "model.fit(x,label)"
   ]
  },
  {
   "cell_type": "code",
   "execution_count": 27,
   "metadata": {},
   "outputs": [],
   "source": [
    "states,transitions=parse_eager(sentences[0])\n"
   ]
  },
  {
   "cell_type": "code",
   "execution_count": null,
   "metadata": {},
   "outputs": [],
   "source": [
    "df=extract_features(states,transitions,feature_names,sentences[0])"
   ]
  },
  {
   "cell_type": "code",
   "execution_count": null,
   "metadata": {},
   "outputs": [],
   "source": [
    "df"
   ]
  },
  {
   "cell_type": "code",
   "execution_count": null,
   "metadata": {},
   "outputs": [],
   "source": [
    "df=extract_features_oneword(states,transitions,sentences[0])\n",
    "df"
   ]
  },
  {
   "cell_type": "code",
   "execution_count": null,
   "metadata": {},
   "outputs": [],
   "source": [
    "buffer,stack,arcs=states[0]"
   ]
  },
  {
   "cell_type": "code",
   "execution_count": 28,
   "metadata": {},
   "outputs": [
    {
     "name": "stdout",
     "output_type": "stream",
     "text": [
      "buffer:\t [11, 10, 9, 8, 7, 6, 5, 4, 3, 2, 1]\n",
      "stack:\t [0]\n",
      "arcs:\t {}\n",
      "transition:\t ('shift', '')\n",
      "buffer:\t [11, 10, 9, 8, 7, 6, 5, 4, 3, 2]\n",
      "stack:\t [0, 1]\n",
      "arcs:\t {}\n",
      "transition:\t ('left_arc', 'det')\n",
      "buffer:\t [11, 10, 9, 8, 7, 6, 5, 4, 3, 2]\n",
      "stack:\t [0]\n",
      "arcs:\t {2: [(1, 'det'), (3, 'case')]}\n",
      "transition:\t ('shift', '')\n",
      "buffer:\t [11, 10, 9, 8, 7, 6, 5, 4, 3]\n",
      "stack:\t [0, 2]\n",
      "arcs:\t {2: [(1, 'det'), (3, 'case')]}\n",
      "transition:\t ('right_arc', 'case')\n",
      "buffer:\t [11, 10, 9, 8, 7, 6, 5, 4]\n",
      "stack:\t [0, 2, 3]\n",
      "arcs:\t {2: [(1, 'det'), (3, 'case')]}\n",
      "transition:\t ('reduce', '')\n",
      "buffer:\t [11, 10, 9, 8, 7, 6, 5, 4]\n",
      "stack:\t [0, 2]\n",
      "arcs:\t {2: [(1, 'det'), (3, 'case')]}\n",
      "transition:\t ('shift', '')\n",
      "buffer:\t [11, 10, 9, 8, 7, 6, 5]\n",
      "stack:\t [0, 2, 4]\n",
      "arcs:\t {2: [(1, 'det'), (3, 'case')]}\n",
      "transition:\t ('left_arc', 'advmod')\n",
      "buffer:\t [11, 10, 9, 8, 7, 6, 5]\n",
      "stack:\t [0, 2]\n",
      "arcs:\t {2: [(1, 'det'), (3, 'case')], 5: [(4, 'advmod')]}\n",
      "transition:\t ('shift', '')\n",
      "buffer:\t [11, 10, 9, 8, 7, 6]\n",
      "stack:\t [0, 2, 5]\n",
      "arcs:\t {2: [(1, 'det'), (3, 'case')], 5: [(4, 'advmod')]}\n",
      "transition:\t ('left_arc', 'amod')\n",
      "buffer:\t [11, 10, 9, 8, 7, 6]\n",
      "stack:\t [0, 2]\n",
      "arcs:\t {2: [(1, 'det'), (3, 'case')], 5: [(4, 'advmod')], 6: [(5, 'amod'), (2, 'nmod'), (7, 'case'), (8, 'case')]}\n",
      "transition:\t ('left_arc', 'nmod')\n",
      "buffer:\t [11, 10, 9, 8, 7, 6]\n",
      "stack:\t [0]\n",
      "arcs:\t {2: [(1, 'det'), (3, 'case')], 5: [(4, 'advmod')], 6: [(5, 'amod'), (2, 'nmod'), (7, 'case'), (8, 'case')]}\n",
      "transition:\t ('shift', '')\n",
      "buffer:\t [11, 10, 9, 8, 7]\n",
      "stack:\t [0, 6]\n",
      "arcs:\t {2: [(1, 'det'), (3, 'case')], 5: [(4, 'advmod')], 6: [(5, 'amod'), (2, 'nmod'), (7, 'case'), (8, 'case')]}\n",
      "transition:\t ('right_arc', 'case')\n",
      "buffer:\t [11, 10, 9, 8]\n",
      "stack:\t [0, 6, 7]\n",
      "arcs:\t {2: [(1, 'det'), (3, 'case')], 5: [(4, 'advmod')], 6: [(5, 'amod'), (2, 'nmod'), (7, 'case'), (8, 'case')]}\n",
      "transition:\t ('reduce', '')\n",
      "buffer:\t [11, 10, 9, 8]\n",
      "stack:\t [0, 6]\n",
      "arcs:\t {2: [(1, 'det'), (3, 'case')], 5: [(4, 'advmod')], 6: [(5, 'amod'), (2, 'nmod'), (7, 'case'), (8, 'case')]}\n",
      "transition:\t ('right_arc', 'case')\n",
      "buffer:\t [11, 10, 9]\n",
      "stack:\t [0, 6, 8]\n",
      "arcs:\t {2: [(1, 'det'), (3, 'case')], 5: [(4, 'advmod')], 6: [(5, 'amod'), (2, 'nmod'), (7, 'case'), (8, 'case')]}\n",
      "transition:\t ('reduce', '')\n",
      "buffer:\t [11, 10, 9]\n",
      "stack:\t [0, 6]\n",
      "arcs:\t {2: [(1, 'det'), (3, 'case')], 5: [(4, 'advmod')], 6: [(5, 'amod'), (2, 'nmod'), (7, 'case'), (8, 'case')]}\n",
      "transition:\t ('left_arc', 'nmod')\n",
      "buffer:\t [11, 10, 9]\n",
      "stack:\t [0]\n",
      "arcs:\t {2: [(1, 'det'), (3, 'case')], 5: [(4, 'advmod')], 6: [(5, 'amod'), (2, 'nmod'), (7, 'case'), (8, 'case')], 9: [(6, 'nmod'), (10, 'cop'), (11, 'punct')]}\n",
      "transition:\t ('right_arc', 'root')\n",
      "buffer:\t [11, 10]\n",
      "stack:\t [0, 9]\n",
      "arcs:\t {2: [(1, 'det'), (3, 'case')], 5: [(4, 'advmod')], 6: [(5, 'amod'), (2, 'nmod'), (7, 'case'), (8, 'case')], 9: [(6, 'nmod'), (10, 'cop'), (11, 'punct')], 0: [(9, 'root')]}\n",
      "transition:\t ('right_arc', 'cop')\n",
      "buffer:\t [11]\n",
      "stack:\t [0, 9, 10]\n",
      "arcs:\t {2: [(1, 'det'), (3, 'case')], 5: [(4, 'advmod')], 6: [(5, 'amod'), (2, 'nmod'), (7, 'case'), (8, 'case')], 9: [(6, 'nmod'), (10, 'cop'), (11, 'punct')], 0: [(9, 'root')]}\n",
      "transition:\t ('reduce', '')\n",
      "buffer:\t [11]\n",
      "stack:\t [0, 9]\n",
      "arcs:\t {2: [(1, 'det'), (3, 'case')], 5: [(4, 'advmod')], 6: [(5, 'amod'), (2, 'nmod'), (7, 'case'), (8, 'case')], 9: [(6, 'nmod'), (10, 'cop'), (11, 'punct')], 0: [(9, 'root')]}\n",
      "transition:\t ('right_arc', 'punct')\n"
     ]
    }
   ],
   "source": [
    "for i in range(len(states)):\n",
    "    print('buffer:\\t',states[i][0])\n",
    "    print('stack:\\t',states[i][1])\n",
    "    print('arcs:\\t',states[i][2])\n",
    "    print('transition:\\t',transitions[i])"
   ]
  },
  {
   "cell_type": "code",
   "execution_count": null,
   "metadata": {},
   "outputs": [],
   "source": [
    "sentences[0]"
   ]
  },
  {
   "cell_type": "code",
   "execution_count": null,
   "metadata": {},
   "outputs": [],
   "source": [
    "import itertools\n",
    "a=['1','23','e']\n",
    "b=['d','232','wewe']\n",
    "for x,y in zip(a,b):\n",
    "    print(x)\n",
    "    print(y)"
   ]
  },
  {
   "cell_type": "code",
   "execution_count": null,
   "metadata": {},
   "outputs": [],
   "source": [
    "def do_something(a,counter):\n",
    "    a[4]='dsds'\n",
    "    counter=5"
   ]
  },
  {
   "cell_type": "code",
   "execution_count": null,
   "metadata": {},
   "outputs": [],
   "source": [
    "a={1:'dsa',2:'asd',3:'d'}\n",
    "counter=1\n",
    "do_something(a,counter)\n",
    "print(a)\n",
    "print(counter)"
   ]
  },
  {
   "cell_type": "code",
   "execution_count": 49,
   "metadata": {},
   "outputs": [
    {
     "data": {
      "text/plain": [
       "array([['एशिया', 'NNP', 'एशिया_NNP', 'की', 'PSP', 'की_PSP', 'सबसे',\n",
       "        'INTF', 'सबसे_INTF', 'बड़ी', 'JJ', 'बड़ी_JJ']], dtype=object)"
      ]
     },
     "execution_count": 49,
     "metadata": {},
     "output_type": "execute_result"
    }
   ],
   "source": [
    "enc.inverse_transform(x[3])"
   ]
  },
  {
   "cell_type": "code",
   "execution_count": 50,
   "metadata": {},
   "outputs": [
    {
     "data": {
      "text/plain": [
       "'right_arc,case'"
      ]
     },
     "execution_count": 50,
     "metadata": {},
     "output_type": "execute_result"
    }
   ],
   "source": [
    "label[3]"
   ]
  },
  {
   "cell_type": "code",
   "execution_count": 51,
   "metadata": {},
   "outputs": [
    {
     "data": {
      "text/plain": [
       "array(['right_arc,case'], dtype='<U20')"
      ]
     },
     "execution_count": 51,
     "metadata": {},
     "output_type": "execute_result"
    }
   ],
   "source": [
    "model.predict(x[3])"
   ]
  },
  {
   "cell_type": "code",
   "execution_count": 52,
   "metadata": {},
   "outputs": [
    {
     "data": {
      "text/plain": [
       "array([[2.34669102e-049, 2.71559648e-238, 1.05817858e-037,\n",
       "        1.92568446e-040, 2.22801870e-025, 0.00000000e+000,\n",
       "        0.00000000e+000, 2.81912833e-093, 1.26308310e-029,\n",
       "        8.02775019e-018, 0.00000000e+000, 3.77546272e-113,\n",
       "        1.49841387e-029, 0.00000000e+000, 4.05127231e-046,\n",
       "        5.09656200e-033, 1.59648976e-016, 5.18373361e-020,\n",
       "        5.25226836e-168, 2.27849073e-034, 3.40375266e-022,\n",
       "        1.98450334e-018, 1.36217559e-033, 0.00000000e+000,\n",
       "        1.27423911e-137, 5.24379398e-009, 0.00000000e+000,\n",
       "        0.00000000e+000, 0.00000000e+000, 1.53296109e-204,\n",
       "        2.73213203e-257, 9.21533023e-034, 5.90737155e-034,\n",
       "        9.99999995e-001, 0.00000000e+000, 0.00000000e+000,\n",
       "        2.61096691e-023, 1.41447833e-044, 7.15302082e-036,\n",
       "        0.00000000e+000, 4.08491434e-296, 1.84577671e-017,\n",
       "        1.24831054e-175, 0.00000000e+000, 0.00000000e+000,\n",
       "        0.00000000e+000, 0.00000000e+000, 2.17161161e-030,\n",
       "        1.58250475e-035, 0.00000000e+000, 0.00000000e+000,\n",
       "        6.12862228e-012]])"
      ]
     },
     "execution_count": 52,
     "metadata": {},
     "output_type": "execute_result"
    }
   ],
   "source": [
    "model.predict_proba(x[3])"
   ]
  },
  {
   "cell_type": "code",
   "execution_count": 41,
   "metadata": {},
   "outputs": [
    {
     "data": {
      "text/plain": [
       "array(['left_arc,acl', 'left_arc,acl:relcl', 'left_arc,advcl',\n",
       "       'left_arc,advmod', 'left_arc,amod', 'left_arc,aux',\n",
       "       'left_arc,aux:pass', 'left_arc,case', 'left_arc,cc',\n",
       "       'left_arc,compound', 'left_arc,cop', 'left_arc,dep',\n",
       "       'left_arc,det', 'left_arc,dislocated', 'left_arc,iobj',\n",
       "       'left_arc,mark', 'left_arc,nmod', 'left_arc,nsubj',\n",
       "       'left_arc,nsubj:pass', 'left_arc,nummod', 'left_arc,obj',\n",
       "       'left_arc,obl', 'left_arc,punct', 'left_arc,vocative',\n",
       "       'left_arc,xcomp', 'reduce', 'right_arc,acl', 'right_arc,acl:relcl',\n",
       "       'right_arc,advcl', 'right_arc,advmod', 'right_arc,amod',\n",
       "       'right_arc,aux', 'right_arc,aux:pass', 'right_arc,case',\n",
       "       'right_arc,cc', 'right_arc,compound', 'right_arc,conj',\n",
       "       'right_arc,cop', 'right_arc,dep', 'right_arc,det',\n",
       "       'right_arc,dislocated', 'right_arc,mark', 'right_arc,nmod',\n",
       "       'right_arc,nsubj', 'right_arc,nummod', 'right_arc,obj',\n",
       "       'right_arc,obl', 'right_arc,punct', 'right_arc,root',\n",
       "       'right_arc,vocative', 'right_arc,xcomp', 'shift'], dtype='<U20')"
      ]
     },
     "execution_count": 41,
     "metadata": {},
     "output_type": "execute_result"
    }
   ],
   "source": [
    "model.classes_"
   ]
  },
  {
   "cell_type": "code",
   "execution_count": null,
   "metadata": {},
   "outputs": [],
   "source": []
  }
 ],
 "metadata": {
  "kernelspec": {
   "display_name": "Python 3",
   "language": "python",
   "name": "python3"
  },
  "language_info": {
   "codemirror_mode": {
    "name": "ipython",
    "version": 3
   },
   "file_extension": ".py",
   "mimetype": "text/x-python",
   "name": "python",
   "nbconvert_exporter": "python",
   "pygments_lexer": "ipython3",
   "version": "3.8.3"
  }
 },
 "nbformat": 4,
 "nbformat_minor": 4
}
