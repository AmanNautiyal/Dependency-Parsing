{
  "nbformat": 4,
  "nbformat_minor": 0,
  "metadata": {
    "colab": {
      "name": "Grpah based dependency parsing.ipynb",
      "provenance": []
    },
    "kernelspec": {
      "name": "python3",
      "display_name": "Python 3"
    },
    "language_info": {
      "name": "python"
    }
  },
  "cells": [
    {
      "cell_type": "code",
      "metadata": {
        "id": "e0GNQDYZKEr2"
      },
      "source": [
        "filepath='/content/sample_data/hi_hdtb-ud-test.conllu'"
      ],
      "execution_count": 10,
      "outputs": []
    },
    {
      "cell_type": "code",
      "metadata": {
        "id": "zY_Ami2Q6ikV"
      },
      "source": [
        "def clean_conllu_file():\n",
        "    with open(filepath, 'r') as f:\n",
        "        data = f.readlines()\n",
        "\n",
        "    output = ''\n",
        "\n",
        "    for line in data:\n",
        "        if line == '\\n':\n",
        "            continue\n",
        "\n",
        "        if line.startswith('# sent_id'):\n",
        "            output += '\\n'\n",
        "        output += line\n",
        "    print(output[:100])\n",
        "    with open('/content/sample_data/DATA/newfile.conllu', 'w+') as f:\n",
        "        f.write(output)\n"
      ],
      "execution_count": 17,
      "outputs": []
    },
    {
      "cell_type": "code",
      "metadata": {
        "id": "aRpwAV5QKaPL",
        "colab": {
          "base_uri": "https://localhost:8080/"
        },
        "outputId": "85d1ac98-e298-445e-ddb7-d713fa104e4a"
      },
      "source": [
        "clean_conllu_file()"
      ],
      "execution_count": 18,
      "outputs": [
        {
          "output_type": "stream",
          "text": [
            "\n",
            "# sent_id = test-s1\n",
            "# text = इसके अतिरिक्त गुग्गुल कुंड, भीम गुफा तथा भीमशिला भी दर्शनीय स्थल हैं ।\n"
          ],
          "name": "stdout"
        }
      ]
    },
    {
      "cell_type": "code",
      "metadata": {
        "id": "-ljvQnH5L63P"
      },
      "source": [
        "#converts a conllu file to json\n",
        "import pprint\n",
        "import os\n",
        "import json\n",
        "import copy\n",
        "\n",
        "def conllu_to_json(filepath=None):\n",
        "    # initialize\n",
        "    text = []\n",
        "    # Read conllu file\n",
        "    with open(filepath, 'r', encoding='utf-8') as f:\n",
        "        source = f.read()\n",
        "    sentences = source.strip().split('\\n\\n')\n",
        "\n",
        "    for sentence in sentences:\n",
        "        temp_lines = sentence.strip().split('\\n')\n",
        "\n",
        "        sent = {}\n",
        "        lines = []\n",
        "        for line in temp_lines:\n",
        "            words = line.split(' ')\n",
        "            # Drop all lines beginning with #\n",
        "            if words[0] == '#':\n",
        "                if words[1] == 'sent_id':\n",
        "                    sent['sent_id'] = words[3]\n",
        "            else:\n",
        "                lines.append(line)\n",
        "\n",
        "        reject_sentence = False\n",
        "        words = []\n",
        "        for line in lines:\n",
        "            words_list = line.split('\\t')\n",
        "\n",
        "            try:\n",
        "                int(words_list[0])\n",
        "            except ValueError:\n",
        "                reject_sentence = True\n",
        "                break\n",
        "\n",
        "            word = {\n",
        "                \"id\": words_list[0],\n",
        "                \"form\": words_list[1],\n",
        "                \"lemma\": words_list[2],\n",
        "                \"upostag\": words_list[3],\n",
        "                \"xpostag\": words_list[4],\n",
        "                \"feats\": words_list[5],\n",
        "                \"head\": words_list[6],\n",
        "                \"deprel\": words_list[7],\n",
        "                \"deps\": words_list[8],\n",
        "                \"misc\": words_list[9]\n",
        "            }\n",
        "            words.append(word)\n",
        "\n",
        "            if word['deprel'] == 'root':\n",
        "                words.append({\n",
        "                    \"id\": \"0\",\n",
        "                    \"form\": \"<ROOT> \",\n",
        "                    \"lemma\": \"<ROOT>\",\n",
        "                    \"upostag\": \"ROOT\",\n",
        "                    \"xpostag\": \"ROOT\",\n",
        "                    \"feats\": \"_\",\n",
        "                    \"head\": \"-1\",\n",
        "                    \"deprel\": \"_\",\n",
        "                    \"deps\": \"_\",\n",
        "                    \"misc\": \"_\"\n",
        "                })\n",
        "\n",
        "        if reject_sentence:\n",
        "            continue\n",
        "\n",
        "        sent['words'] = words\n",
        "        text.append(sent)\n",
        "\n",
        "    with open(filepath.replace('conllu', 'json'), 'w+') as f:\n",
        "        f.write(json.dumps(text, indent=4))"
      ],
      "execution_count": 21,
      "outputs": []
    },
    {
      "cell_type": "code",
      "metadata": {
        "id": "GwDuW45cNQYx"
      },
      "source": [
        "conllu_to_json('/content/sample_data/DATA/newfile.conllu')"
      ],
      "execution_count": 22,
      "outputs": []
    },
    {
      "cell_type": "code",
      "metadata": {
        "id": "fbwQ0HhrOKGC"
      },
      "source": [
        ""
      ],
      "execution_count": null,
      "outputs": []
    }
  ]
}